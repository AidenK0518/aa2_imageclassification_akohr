{
 "cells": [
  {
   "cell_type": "code",
   "execution_count": 1,
   "id": "81824ab8",
   "metadata": {
    "colab": {
     "base_uri": "https://localhost:8080/"
    },
    "executionInfo": {
     "elapsed": 18548,
     "status": "ok",
     "timestamp": 1744179336197,
     "user": {
      "displayName": "Chaitanya Pankajkumar Patel",
      "userId": "12528634836775253144"
     },
     "user_tz": 420
    },
    "id": "81824ab8",
    "outputId": "6e1144f8-8493-4efa-e0c5-7fa312a7c5c4"
   },
   "outputs": [
    {
     "name": "stdout",
     "output_type": "stream",
     "text": [
      "Mounted at /content/drive\n"
     ]
    }
   ],
   "source": [
    "from google.colab import drive\n",
    "\n",
    "drive.mount('/content/drive')\n",
    "\n",
    "# TODO: Enter the path in your Drive of the assignment.\n",
    "# e.g. 'cs590/assignments/assignment1/'\n",
    "FOLDERNAME = 'cs231n/assignments/assignment1/'\n",
    "\n",
    "assert FOLDERNAME is not None, \"[!] Enter the foldername.\""
   ]
  },
  {
   "cell_type": "markdown",
   "id": "6be91a6a",
   "metadata": {
    "id": "6be91a6a"
   },
   "source": [
    "# Collect Submission - Zip + Generate PDF\n",
    "\n",
    "Run this notebook once you have completed all the other notebooks: `knn.ipynb`, `softmax.ipynb`, `two_layer_net.ipynb`, `features.ipynb`, and `FullyConnectedNets.ipynb`.\n",
    "\n",
    "It will:\n",
    "\n",
    "* Generate a zip file of your code (`.py` and `.ipynb`) called `a1_code_submission.zip`.\n",
    "* Convert all notebooks into a single PDF file called `a1_inline_submission.pdf`.\n",
    "\n",
    "If your submission for this step was successful, you should see the following display message:\n",
    "\n",
    "`### Done! Please submit a1_code_submission.zip and a1_inline_submission.pdf to Blackboard. ###`\n",
    "\n",
    "Make sure to download the zip and pdf file locally to your computer, then submit to Blackboard. Congrats on succesfully completing the assignment!"
   ]
  },
  {
   "cell_type": "code",
   "execution_count": 1,
   "id": "aa146f82",
   "metadata": {
    "id": "aa146f82"
   },
   "outputs": [
    {
     "name": "stdout",
     "output_type": "stream",
     "text": [
      "[WinError 3] The system cannot find the path specified: 'drive/My\\\\ Drive'\n",
      "c:\\Users\\Roblo\\OneDrive\\Desktop\\CompSciPlayground\\CS490\\aa2_imageclassification\n",
      "[WinError 2] The system cannot find the file specified: '$FOLDERNAME'\n",
      "c:\\Users\\Roblo\\OneDrive\\Desktop\\CompSciPlayground\\CS490\\aa2_imageclassification\n"
     ]
    },
    {
     "name": "stderr",
     "output_type": "stream",
     "text": [
      "Sudo is disabled on this machine. To enable it, go to the \u001b]8;;ms-settings:developers\u001b\\Developer Settings page\u001b]8;;\u001b\\ in the Settings app\n"
     ]
    },
    {
     "name": "stdout",
     "output_type": "stream",
     "text": [
      "Requirement already satisfied: PyPDF2 in c:\\users\\roblo\\anaconda3\\envs\\cs490\\lib\\site-packages (3.0.1)\n",
      "Requirement already satisfied: typing_extensions>=3.10.0.0 in c:\\users\\roblo\\anaconda3\\envs\\cs490\\lib\\site-packages (from PyPDF2) (4.14.1)\n"
     ]
    },
    {
     "name": "stderr",
     "output_type": "stream",
     "text": [
      "'bash' is not recognized as an internal or external command,\n",
      "operable program or batch file.\n"
     ]
    }
   ],
   "source": [
    "%cd drive/My\\ Drive\n",
    "%cd $FOLDERNAME\n",
    "!sudo apt-get install texlive-xetex texlive-fonts-recommended texlive-plain-generic texlive-latex-extra pandoc --fix-missing\n",
    "!pip install PyPDF2\n",
    "!bash collectSubmission.sh"
   ]
  },
  {
   "cell_type": "code",
   "execution_count": null,
   "id": "YT11pl64v2kP",
   "metadata": {
    "id": "YT11pl64v2kP"
   },
   "outputs": [],
   "source": []
  }
 ],
 "metadata": {
  "colab": {
   "provenance": []
  },
  "gpuClass": "standard",
  "kernelspec": {
   "display_name": "cs490",
   "language": "python",
   "name": "python3"
  },
  "language_info": {
   "codemirror_mode": {
    "name": "ipython",
    "version": 3
   },
   "file_extension": ".py",
   "mimetype": "text/x-python",
   "name": "python",
   "nbconvert_exporter": "python",
   "pygments_lexer": "ipython3",
   "version": "3.9.23"
  }
 },
 "nbformat": 4,
 "nbformat_minor": 5
}
